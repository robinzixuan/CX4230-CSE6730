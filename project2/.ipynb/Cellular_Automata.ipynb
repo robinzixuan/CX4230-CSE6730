{
 "cells": [
  {
   "cell_type": "markdown",
   "metadata": {},
   "source": [
    "# Part 1: Cellular Automata Model\n",
    "\n",
    "## 1.1 Characteristics of forest fires\n",
    "\n",
    "The objective of this model is to present discrete computational models capable of simulating wildfire phenomena. In case of researching the spreading of the wildfire, we are researching the spreading pattern of the wildfire and we think it is pretty similar with the Cellular Automata SIR (CASIR) Model to make the simulation of the wildfire spreading. In a forested area, if a tree catches fire, it can cause surrounding trees to catch fire, and, finally, affects the whole forest. And in the Cellular Automata SIR (CASIR) Model, A stochastic cellular automata (CA) model is proposed to simulate susceptible infected-removed populations over space and time. Three initial grid configurations are used to compare and contrast the spatiotemporal dynamics of this system: random, center, and patchy.\\cite{landguth2007cellular} In the model, the S represents the the number of susceptible people, I represents the number of people infected, and R represents the number of people who have recovered.  \n"
   ]
  },
  {
   "cell_type": "markdown",
   "metadata": {},
   "source": [
    "## 1.2 Conceptual Model\n",
    "### Key features of the Cellular Automata SIR model:\n",
    "\n",
    "    1.Divide system space into cells\n",
    "    2.Each cell can be in one of several finite states. In this tutorial the states are:"
   ]
  },
  {
   "cell_type": "markdown",
   "metadata": {},
   "source": [
    "$$ X_t(i,j)=\\left\\{\n",
    "\\begin{array}{rcl}\n",
    "0       &      & Unburned\\\\\n",
    "1     &      & Burning\\\\\n",
    "-1     &      & Burned\n",
    "\\end{array} \\right. $$"
   ]
  },
  {
   "cell_type": "markdown",
   "metadata": {},
   "source": [
    "    3. a discrete dynamical system that consists of a regular network of finite state automata (cells) by\n",
    "        applying some deterministic or probabilistic transformation rule,such as Game-of-life by John Conway.\n",
    "        Here, the rule are based on the possibility of plants the fire and death in each generation based on \n",
    "        the neighbors and coditions.\n",
    "    4. All cells are affected simultaneously in a generation, and rules are reapplied over many generations.\n",
    "    5. The local cells’ states change depending on the states of their neighbors. \n",
    "    6. The process is repeated at discrete time steps\n",
    "    7. The  advantages of the cellular automata do not have restrictions in the type of elementary entities \n",
    "        or transformation rules employed.     \n",
    "    8. They can map such different situations as the distribution of the values of state variables in a simple \n",
    "        finite difference simulation. "
   ]
  },
  {
   "cell_type": "markdown",
   "metadata": {},
   "source": [
    "### We make following assumption in order to simplify our simulation model:\n",
    "\n",
    "[a.] In the fire season, any plants will stop growth, migration and death with other reasons.\n",
    "\n",
    "[b.] we will calculate the wildfire serious in a specific area by the brightness of the fire  \n",
    "\n",
    "[c.] Assume we use the hour as the time unit and each hour we calculate the serious level of \n",
    "the wildfire of the specific area by calculating the average of the brightness of this area.\n",
    "\n",
    "[d.]We assume the fire speed per hour is $\\gamma$, the extinguish speed  per hour is $\\lambda$\n",
    "\n",
    "[e.]We assume the forest is a square\n"
   ]
  },
  {
   "cell_type": "markdown",
   "metadata": {},
   "source": [
    "## Basic Knowledge of Model\n",
    "The fire-spread model is based on Rothermel’s surface fire-spread model. If the all forest looks as 1 part, then $S(t)+ I(t) + R(t) = 1$. And we defined $R_0$ represents the rate of spread on a flat terrain with no wind. The direction of maximum spread is obtained through a vectorial summation of the dimensionless coefficients for wind speed and slope. Assuming the fire origin to be located at the rear focus of the ellipse, the fire-spread rate can be calculated based on the angle $\\theta$, measured from the direction of maximum spread.($\\overline{E}$ is the ellipse eccentricity, defined as $1 + 1/LW^2$).\n",
    "\n",
    "$R(\\theta)=R_0\\frac{(1+ \\overline{E}cos(\\theta))}{1+\\overline{E}}$ \n",
    "\n",
    "$LW= 0.936e^{50.5U_{eq}/100} + 0.461e^{−30.5U_{eq}/100} − 0.397$\n",
    "\n",
    "In which $U_eq$ is the wind speed that alone would produce the combined effect of actual wind and terrain slope."
   ]
  },
  {
   "cell_type": "markdown",
   "metadata": {},
   "source": [
    "## Parameters of the system\n",
    "\n",
    "The parameters that control the behavior of our system are listed below. Some of these parameter describe our system overall, and some are specific to the fire in our system."
   ]
  },
  {
   "cell_type": "markdown",
   "metadata": {},
   "source": [
    "$w$ : the width and length of the forest\n",
    "$$$$\n",
    "$Time$ : timestamp\n",
    "$$$$\n",
    "$duration$ : time difference.\n",
    "$$$$\n",
    "$windspeed$ : At time T, the wind speed in environment\n",
    "$$$$\n",
    "$winddirection$ : At time T, the wind direction in environment.\n",
    "$$$$\n",
    "$livep$ : The possible of the forest have live plants at begin\n",
    "$$$$\n",
    "$empty$ : The possible of the forest have empty space at begin\n",
    "$$$$\n",
    "$fireoff$ : the possible fire off automatically\n",
    "$$$$\n",
    "$centerw$ : The center location of the forest"
   ]
  },
  {
   "cell_type": "code",
   "execution_count": 1,
   "metadata": {},
   "outputs": [],
   "source": [
    "import numpy as np\n",
    "import matplotlib.pyplot as plt\n",
    "import matplotlib as mpl\n",
    "import seaborn as sns\n",
    "import math"
   ]
  },
  {
   "cell_type": "markdown",
   "metadata": {},
   "source": [
    "Every cell of  G  is a position that is either empty, firing, or unfired.\n",
    "\n",
    "The cells of the grid are represented with values as below"
   ]
  },
  {
   "cell_type": "code",
   "execution_count": 2,
   "metadata": {},
   "outputs": [],
   "source": [
    "Unfired = 0\n",
    "FIRING = 1\n",
    "Death = -1"
   ]
  },
  {
   "cell_type": "markdown",
   "metadata": {},
   "source": [
    "Each cell have space of 1*1, and the possible of the live plants at the begining is 0.96 and the empty space at the begining is 0.04. The $P_{plantbegin} + P_{emptybegin} = 1$."
   ]
  },
  {
   "cell_type": "code",
   "execution_count": 3,
   "metadata": {},
   "outputs": [],
   "source": [
    "w = 33\n",
    "wind_speed = 0\n",
    "wind_direction = 'e'\n",
    "Time = 240\n",
    "center_w = int(w/2 +1)\n",
    "duration = 1\n",
    "livep = 1\n",
    "empty = 0\n",
    "fireoff = 0.2"
   ]
  },
  {
   "cell_type": "markdown",
   "metadata": {},
   "source": [
    "To store the grid, we will use a 2-D Numpy array (G) and initialize the grid with 96% plants, 4% empty.  We set the Orginal situation as G and make model on the M. The fire will begin at the center of the forest. In the fire simulation, $P_{firing} + P_{unfired} + P_{empty} = 1$."
   ]
  },
  {
   "cell_type": "code",
   "execution_count": 4,
   "metadata": {},
   "outputs": [],
   "source": [
    "def create_grid ():\n",
    "    ### INITIALIZE GRID\n",
    "    G = Unfired * np.zeros ((w, w), dtype=int)\n",
    "    M = Unfired * np.zeros ((w, w), dtype=int)\n",
    "    #RANDOMLY ASSIGN VALUE 0,1,-1 TO EACH CELL WITH PROB 0.25,0.50,0.25\n",
    "    for i in range(0,w):\n",
    "        for j in range(0,w):\n",
    "            G[i][j]=np.random.choice([0,-1],p=[livep,empty])\n",
    "            if(G[i][j]!=0):\n",
    "                M[i][j]= -1\n",
    "            if (i== center_w and j== center_w):\n",
    "                M[i][j] = 1\n",
    "    return G,M"
   ]
  },
  {
   "cell_type": "markdown",
   "metadata": {},
   "source": [
    "Draw initial system"
   ]
  },
  {
   "cell_type": "code",
   "execution_count": 5,
   "metadata": {},
   "outputs": [],
   "source": [
    "def show_grid ( G,i=1):\n",
    "    u, count = np.unique(G, return_counts=True)\n",
    "    if len(count) == 3:\n",
    "        cmap = mpl.colors.ListedColormap(['skyblue','teal','crimson'])\n",
    "    elif len(count) == 2:\n",
    "        cmap = mpl.colors.ListedColormap([ 'teal', 'crimson'])\n",
    "    else:\n",
    "        cmap = mpl.colors.ListedColormap(['teal'])\n",
    "    sns.set(style=\"white\")\n",
    "\n",
    "    plt.matshow(G,cmap=cmap)\n",
    "    cb = plt.colorbar ()\n",
    "    plt.axis ('square')\n",
    "\n",
    "    plt.axis ([0, w-1, w-1,0])"
   ]
  },
  {
   "cell_type": "code",
   "execution_count": 6,
   "metadata": {},
   "outputs": [
    {
     "data": {
      "image/png": "[encoded data removed]",
      "text/plain": [
       "<Figure size 288x288 with 2 Axes>"
      ]
     },
     "metadata": {},
     "output_type": "display_data"
    },
    {
     "data": {
      "image/png": "[encoded data removed]",
      "text/plain": [
       "<Figure size 288x288 with 2 Axes>"
      ]
     },
     "metadata": {},
     "output_type": "display_data"
    }
   ],
   "source": [
    "G1,M1 = create_grid()\n",
    "show_grid(G1)\n",
    "show_grid(M1)"
   ]
  },
  {
   "cell_type": "markdown",
   "metadata": {},
   "source": [
    "Update the wind influence of the fire spread with the basic knowledge above"
   ]
  },
  {
   "cell_type": "code",
   "execution_count": 7,
   "metadata": {},
   "outputs": [],
   "source": [
    "def update_wind(direction):\n",
    "    LW = 0.936 * np.e ** (50.5* wind_speed/100) + 0.461 * np.e ** (-30.5 * wind_speed/100) - 0.397\n",
    "    E = 1 - 1/LW**2\n",
    "    theta = 0 \n",
    "    k = 1/(1+E)\n",
    "    if wind_direction.lower() == 'e':\n",
    "        return k*(1+E*math.cos(0-direction))\n",
    "    elif wind_direction.lower() == 'ne':\n",
    "        return k*(1+E*math.cos(np.pi/4-direction))\n",
    "    elif wind_direction.lower() == 'n':\n",
    "        return k*(1+E*math.cos(np.pi/2-direction))\n",
    "    elif wind_direction.lower() == 'nw':\n",
    "        return k*(1+E*math.cos(3 * np.pi/4-direction))\n",
    "    elif wind_direction.lower() == 'w':\n",
    "        return k*(1+E*math.cos(np.pi-direction))\n",
    "    elif wind_direction.lower() == 'sw':\n",
    "        return k*(1+E*math.cos(5 * np.pi/4-direction))\n",
    "    elif wind_direction.lower() == 's':\n",
    "        return k*(1+E*math.cos(3 * np.pi/2-direction))\n",
    "    elif wind_direction.lower() == 'se':\n",
    "        return k*(1+E*math.cos(7 * np.pi/4-direction))"
   ]
  },
  {
   "cell_type": "markdown",
   "metadata": {},
   "source": [
    "#rule1: if cells contains fire, the rule is as follow:"
   ]
  },
  {
   "cell_type": "markdown",
   "metadata": {},
   "source": [
    "If >=6 neighbors are firing, fire off\n",
    "If the neighbors is firing, the neighbor fire have 1% possible to off by itself\n",
    "If the neighbors is plants, the plants will be fire with the possible of the 70% multiple the wind influence "
   ]
  },
  {
   "cell_type": "code",
   "execution_count": 8,
   "metadata": {},
   "outputs": [],
   "source": [
    "def fire_process(M0, i, j):\n",
    "    xMin=max(i-1,0)\n",
    "    xMax=min(i+1,w-1)\n",
    "    yMin=max(j-1,0)\n",
    "    yMax=min(j+1,w-1)\n",
    "    count = 0\n",
    "    for a in range(xMin,xMax + 1):\n",
    "        for b in range(yMin, yMax + 1):\n",
    "            if a == i and  b == j:\n",
    "                pass\n",
    "            else:\n",
    "                if M0[a][b] == -1:\n",
    "                    pass\n",
    "                elif M0[a][b] == 0:\n",
    "                    if a-i == 1 and b == j:\n",
    "                        direction = np.pi/2\n",
    "                    elif a - i == -1 and b == j:\n",
    "                        direction = 3 * np.pi\n",
    "                    elif a == i and b - j == 1:\n",
    "                        direction = 0\n",
    "                    elif a == i and b - j ==-1:\n",
    "                        direction = np.pi\n",
    "                    elif a - i == 1 and b - j == 1:\n",
    "                        direction = np.pi/4\n",
    "                    elif a - i == -1 and b - j == 1:\n",
    "                        direction = np.pi/4 * 7\n",
    "                    elif a - i == 1 and b - j == -1:\n",
    "                        direction = np.pi/4 * 3\n",
    "                    elif a - i == -1 and b - j == -1:\n",
    "                        direction = np.pi/4 * 5\n",
    "                    possible = 0.7 * update_wind(direction)\n",
    "                    M0[a][b] = np.random.choice([1,0],p=[possible, 1- possible])\n",
    "                elif M0[a][b] == 1:\n",
    "                    count += 1\n",
    "                    possible_death = 0.5\n",
    "                    M0[a][b] = np.random.choice([-1,0],p=[possible_death, 1- possible_death]) \n",
    "    if count >= 6:\n",
    "        M0[i][j] = -1\n",
    "    return M0"
   ]
  },
  {
   "cell_type": "markdown",
   "metadata": {},
   "source": [
    "#rule2: if the cell contains empty, the rule is as follows:"
   ]
  },
  {
   "cell_type": "markdown",
   "metadata": {},
   "source": [
    "Do nothing"
   ]
  },
  {
   "cell_type": "code",
   "execution_count": 9,
   "metadata": {},
   "outputs": [],
   "source": [
    "def empty_process(M0, i, j):\n",
    "    return M0"
   ]
  },
  {
   "cell_type": "markdown",
   "metadata": {},
   "source": [
    "#rule3: if the cell contains empty, the rule is as follows:"
   ]
  },
  {
   "cell_type": "markdown",
   "metadata": {},
   "source": [
    "If >= 3 neighbors are firing, plant firing\n",
    "If <3 neighbors are firing, plant have 50% firing "
   ]
  },
  {
   "cell_type": "code",
   "execution_count": 10,
   "metadata": {},
   "outputs": [],
   "source": [
    "def plant_process(M0, i, j):\n",
    "    xMin=max(i-1,0)\n",
    "    xMax=min(i+1,w-1)\n",
    "    yMin=max(j-1,0)\n",
    "    yMax=min(j+1,w-1)\n",
    "    count = 0\n",
    "    for a in range(xMin,xMax + 1):\n",
    "        for b in range(yMin, yMax + 1):\n",
    "            if a == i and  b == j:\n",
    "                pass\n",
    "            else:\n",
    "                if M0[a][b] == -1:\n",
    "                    pass\n",
    "                elif M0[a][b] == 0:\n",
    "                    pass\n",
    "                elif M0[a][b] == 1:\n",
    "                    count += 1\n",
    "    if count >= 3:\n",
    "        M0[i][j] = 1\n",
    "    else:\n",
    "        np.random.choice([1,0],p=[0.5, 0.5])  \n",
    "    return M0"
   ]
  },
  {
   "cell_type": "markdown",
   "metadata": {},
   "source": [
    "We now shold out the one step of simulation for firing, unfire and empty situation. Iterating through all neighboring cells for each cell takes  O(N2)  time, since we have  N2  cells and check a constant number neighbors. We also have to account for whether there are fixed boundaries (no wraparound) or modular boundaries (grid wraps around horizontally and vertically)."
   ]
  },
  {
   "cell_type": "code",
   "execution_count": 11,
   "metadata": {},
   "outputs": [],
   "source": [
    "def step(M):\n",
    "    fire_point = []\n",
    "    empty_point = []\n",
    "    plant_point = []\n",
    "    M_t = M.copy ()\n",
    "    for i in range(w):\n",
    "        for j in range(w):\n",
    "            if M_t[i][j] == 1:\n",
    "                fire_point.append((i,j))\n",
    "            elif M_t[i][j] == 0:\n",
    "                plant_point.append((i,j))\n",
    "            elif M_t[i][j] == -1:\n",
    "                empty_point.append((i,j))\n",
    "    for k in range(len(empty_point)):\n",
    "        s = empty_point[k]\n",
    "        M_t = empty_process(M_t,s[0], s[1])\n",
    "        \n",
    "    for k in range(len(plant_point)):\n",
    "        s = plant_point[k]\n",
    "        M_t = plant_process(M_t,s[0], s[1])\n",
    "        \n",
    "    for k in range(len(fire_point)):\n",
    "        s = fire_point[k]\n",
    "        M_t = fire_process(M_t,s[0], s[1])\n",
    "    return M_t"
   ]
  },
  {
   "cell_type": "code",
   "execution_count": 12,
   "metadata": {},
   "outputs": [
    {
     "data": {
      "image/png": "[encoded data removed]",
      "text/plain": [
       "<Figure size 288x288 with 2 Axes>"
      ]
     },
     "metadata": {},
     "output_type": "display_data"
    },
    {
     "data": {
      "image/png": "[encoded data removed]",
      "text/plain": [
       "<Figure size 288x288 with 2 Axes>"
      ]
     },
     "metadata": {},
     "output_type": "display_data"
    }
   ],
   "source": [
    "G_0,M_0 = create_grid ()\n",
    "M_1 = step (M_0)\n",
    "show_grid(M_1)\n",
    "M_2 = step (M_1)\n",
    "show_grid(M_2)"
   ]
  },
  {
   "cell_type": "markdown",
   "metadata": {},
   "source": [
    "The preceding code lays the building blocks for the complete simulation, which the following function implements."
   ]
  },
  {
   "cell_type": "code",
   "execution_count": 13,
   "metadata": {},
   "outputs": [],
   "source": [
    "def sim(M):\n",
    "    #make the simulation at the system set time\n",
    "    Nstep = Time\n",
    "    t, M_t = 0, M.copy ()\n",
    "    while t < Nstep:\n",
    "        M_t = step(M)\n",
    "        t = t + duration\n",
    "    return (t, M_t)"
   ]
  },
  {
   "cell_type": "markdown",
   "metadata": {},
   "source": [
    "The preceding code lays the building blocks for the specific step simulation, which the following function implements."
   ]
  },
  {
   "cell_type": "code",
   "execution_count": 14,
   "metadata": {},
   "outputs": [],
   "source": [
    "def sim_once(M, Nstep):\n",
    "    #make more steps of the simualtion\n",
    "    S = np.zeros (Nstep+1)\n",
    "    I = np.zeros (Nstep+1)\n",
    "    R = np.zeros (Nstep+1)\n",
    "    t, M_t = 0, M.copy ()\n",
    "    while t < Nstep:\n",
    "        M_t = step(M_t)\n",
    "        S[t] = np.count_nonzero(M_t == 0)\n",
    "        I[t] = np.count_nonzero(M_t == 1)\n",
    "        R[t] = np.count_nonzero(M_t == -1)\n",
    "        t = t + duration\n",
    "    return t,S,I, R, M_t"
   ]
  },
  {
   "cell_type": "markdown",
   "metadata": {},
   "source": [
    "Display the simulation result:"
   ]
  },
  {
   "cell_type": "code",
   "execution_count": 15,
   "metadata": {},
   "outputs": [
    {
     "data": {
      "image/png": "[encoded data removed]",
      "text/plain": [
       "<Figure size 288x288 with 2 Axes>"
      ]
     },
     "metadata": {},
     "output_type": "display_data"
    },
    {
     "data": {
      "image/png": "[encoded data removed]",
      "text/plain": [
       "<Figure size 288x288 with 2 Axes>"
      ]
     },
     "metadata": {},
     "output_type": "display_data"
    }
   ],
   "source": [
    "G1,M1 = create_grid()\n",
    "t,S,I, R, M_t = sim_once(M1, 11)\n",
    "show_grid(M_t)\n",
    "t,S,I, R, M_t1 = sim_once(M_t, 1)\n",
    "show_grid(M_t1)"
   ]
  }
 ],
 "metadata": {
  "kernelspec": {
   "display_name": "Python 3",
   "language": "python",
   "name": "python3"
  },
  "language_info": {
   "codemirror_mode": {
    "name": "ipython",
    "version": 3
   },
   "file_extension": ".py",
   "mimetype": "text/x-python",
   "name": "python",
   "nbconvert_exporter": "python",
   "pygments_lexer": "ipython3",
   "version": "3.7.1"
  }
 },
 "nbformat": 4,
 "nbformat_minor": 2
}
